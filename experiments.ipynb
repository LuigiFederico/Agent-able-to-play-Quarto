{
 "cells": [
  {
   "attachments": {},
   "cell_type": "markdown",
   "metadata": {},
   "source": [
    "## Setup"
   ]
  },
  {
   "cell_type": "code",
   "execution_count": 1,
   "metadata": {},
   "outputs": [],
   "source": [
    "from main import RandomPlayer\n",
    "from quarto.players import MyPlayer\n",
    "from quarto.objects import Quarto\n",
    "from IPython.display import clear_output"
   ]
  },
  {
   "cell_type": "code",
   "execution_count": 2,
   "metadata": {},
   "outputs": [],
   "source": [
    "def main(reverse = False):\n",
    "    game = Quarto()\n",
    "    if reverse:\n",
    "        game.set_players((RandomPlayer(game), MyPlayer(game))) \n",
    "    else:\n",
    "        game.set_players((MyPlayer(game), RandomPlayer(game)))\n",
    "    \n",
    "    winner = game.run()\n",
    "    clear_output(wait=False)\n",
    "    print(f\"main: Winner: player {winner}\")\n",
    "    return winner"
   ]
  },
  {
   "attachments": {},
   "cell_type": "markdown",
   "metadata": {},
   "source": [
    "### Tournament"
   ]
  },
  {
   "cell_type": "code",
   "execution_count": 3,
   "metadata": {},
   "outputs": [
    {
     "name": "stdout",
     "output_type": "stream",
     "text": [
      "main: Winner: player 1\n",
      "WINRATE = 0.965\n"
     ]
    }
   ],
   "source": [
    "N_MATCHES = 200\n",
    "\n",
    "cnt = 0\n",
    "for i in range(N_MATCHES):\n",
    "    if i < N_MATCHES//2:  \n",
    "        w = main()\n",
    "        if w == 0:\n",
    "            cnt += 1\n",
    "    else:\n",
    "        w = main(True)\n",
    "        if w == 1:\n",
    "            cnt += 1\n",
    "    \n",
    "\n",
    "print(f'WINRATE = {cnt / N_MATCHES}') "
   ]
  },
  {
   "attachments": {},
   "cell_type": "markdown",
   "metadata": {},
   "source": [
    "| # matches | delay_minmax = True | WinRate | Execution time | ExecutionTime / # Matches    |\n",
    "|  :-----:  |   :---------:       |  :---:  | :---------:    | :------:    |\n",
    "| 20        |       True          |   0.95  |   6m 45.8s     |  20.25s                   |\n",
    "| 20        |       True          |   0.9  |   5m 14.2s     | 15.7s                     |\n",
    "| 20        |      True           |   1.00  |  1m 39.8s      | 4.95s                     |\n",
    "| 20        |      False          |   0.95  |    5m 52.0s    | 17.6s                     |\n",
    "| 20        |      False          |   1.00  |    6m 59.4s    | 20.95s                    |\n",
    "| 20        |      False          |   0.9   |   11m 10.8s    | 33.5s                     |\n",
    "| 100       |      True           |   0.92  | 6m 21.2s       | 3.81s                     |\n",
    "| 100       |      True           |   0.91  |  3m 24.5s      | 2.04s                     |\n",
    "| 100       |     False           |  0.91   |   3m 24.5s     | 2.04s                     |  \n",
    "| 100       |     False           |  0.96   |  12m 14.0s     | 7.34s                     |\n",
    "| 200       |     False           |  0.975  |   37m 37.5s    | 11.29s                    |\n",
    "| 200       |     Ture            |  0.965  |     13m 1.4s   | 3.91s                     |\n"
   ]
  },
  {
   "attachments": {},
   "cell_type": "markdown",
   "metadata": {},
   "source": [
    "| delay_minmax | Avg WinRate | Avg ExecutionTime/#matches |\n",
    "|  :-----:     |   :-----:   |  :-----------:             |\n",
    "|   True       |   0.924     |    8.44s                   |\n",
    "|   False      |   0.949     |    15.45s                  |"
   ]
  }
 ],
 "metadata": {
  "kernelspec": {
   "display_name": "Python 3",
   "language": "python",
   "name": "python3"
  },
  "language_info": {
   "codemirror_mode": {
    "name": "ipython",
    "version": 3
   },
   "file_extension": ".py",
   "mimetype": "text/x-python",
   "name": "python",
   "nbconvert_exporter": "python",
   "pygments_lexer": "ipython3",
   "version": "3.10.10"
  },
  "orig_nbformat": 4,
  "vscode": {
   "interpreter": {
    "hash": "dfdee70b8fde6354ca2c3454fb2ed6ad5a414021dbe15bd7e75ed280b1128364"
   }
  }
 },
 "nbformat": 4,
 "nbformat_minor": 2
}
